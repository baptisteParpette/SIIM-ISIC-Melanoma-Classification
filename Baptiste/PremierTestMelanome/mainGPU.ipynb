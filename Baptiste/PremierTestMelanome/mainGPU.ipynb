{
 "cells": [
  {
   "cell_type": "code",
   "execution_count": 19,
   "metadata": {},
   "outputs": [],
   "source": [
    "import os\n",
    "import pandas as pd\n",
    "import torch\n",
    "import torch.nn as nn\n",
    "import torch.optim as optim\n",
    "from torch.utils.data import Dataset, DataLoader\n",
    "from PIL import Image\n",
    "from torchvision import transforms\n",
    "import torch.nn.functional as F\n",
    "\n",
    "# Vérifier si CUDA est disponible, sinon utiliser le CPU\n",
    "device = torch.device(\"cuda\" if torch.cuda.is_available() else \"cpu\")\n",
    "\n",
    "# Architecture simplifiée du CNN\n",
    "class MelanomaCNN(nn.Module):\n",
    "    def __init__(self):\n",
    "        super(MelanomaCNN, self).__init__()\n",
    "        self.conv = nn.Conv2d(3, 16, kernel_size=3, padding=1)\n",
    "        self.fc = nn.Linear(16 * 112 * 112, 1)\n",
    "\n",
    "    def forward(self, x):\n",
    "        x = F.relu(self.conv(x))\n",
    "        x = F.max_pool2d(x, 2)\n",
    "        x = x.view(-1, 16 * 112 * 112)\n",
    "        x = torch.sigmoid(self.fc(x))\n",
    "        return x\n",
    "\n",
    "\n",
    "# Ensemble de données personnalisé\n",
    "class MelanomaDataset(Dataset):\n",
    "    def __init__(self, csv_file, img_dir, transform=None, limit=None):\n",
    "        self.labels_df = pd.read_csv(csv_file).head(limit)  # Limite à 100 images\n",
    "        self.img_dir = img_dir\n",
    "        self.transform = transform\n",
    "\n",
    "    def __len__(self):\n",
    "        return len(self.labels_df)\n",
    "\n",
    "    def __getitem__(self, idx):\n",
    "        img_name = os.path.join(self.img_dir, self.labels_df.iloc[idx, 0] + \".jpg\")\n",
    "        image = Image.open(img_name)\n",
    "        label = torch.tensor(self.labels_df.iloc[idx, 1], dtype=torch.float32)\n",
    "        if self.transform:\n",
    "            image = self.transform(image)\n",
    "        return image, label"
   ]
  },
  {
   "cell_type": "code",
   "execution_count": 21,
   "metadata": {},
   "outputs": [
    {
     "name": "stdout",
     "output_type": "stream",
     "text": [
      "Epoch 1/10, Loss: 0.008033929392695427\n",
      "Epoch 2/10, Loss: 0.0004863036738242954\n",
      "Epoch 3/10, Loss: 0.017347946763038635\n",
      "Epoch 4/10, Loss: 0.005256232805550098\n",
      "Epoch 5/10, Loss: 0.0037439081352204084\n",
      "Epoch 6/10, Loss: 0.003921271301805973\n",
      "Epoch 7/10, Loss: 0.00025818555150181055\n",
      "Epoch 8/10, Loss: 0.9824573993682861\n",
      "Epoch 9/10, Loss: 0.021516110748052597\n",
      "Epoch 10/10, Loss: 0.003237965516746044\n"
     ]
    }
   ],
   "source": [
    "# Transformations pour les images\n",
    "transform = transforms.Compose([\n",
    "    transforms.ToTensor(),\n",
    "    transforms.Normalize((0.5, 0.5, 0.5), (0.5, 0.5, 0.5))\n",
    "])\n",
    "\n",
    "# Charger l'ensemble de données\n",
    "train_dataset = MelanomaDataset(csv_file='../../data/train-labels.csv',  # Ajustez le chemin\n",
    "                                img_dir='../../data/train-resized/train-resized',      # Ajustez le chemin\n",
    "                                transform=transform)\n",
    "train_loader = DataLoader(train_dataset, batch_size=32, shuffle=True)\n",
    "\n",
    "# Initialisation du modèle, fonction de perte et optimiseur\n",
    "device = torch.device(\"cuda\" if torch.cuda.is_available() else \"cpu\")\n",
    "model = MelanomaCNN().to(device)\n",
    "criterion = nn.BCELoss()\n",
    "optimizer = optim.Adam(model.parameters(), lr=0.0001)\n",
    "\n",
    "# Entraînement du modèle\n",
    "epochs = 10\n",
    "for epoch in range(epochs):\n",
    "    for data, target in train_loader:\n",
    "        data, target = data.to(device).float(), target.to(device).float().unsqueeze(1)\n",
    "        optimizer.zero_grad()\n",
    "        outputs = model(data)\n",
    "        loss = criterion(outputs, target)\n",
    "        loss.backward()\n",
    "        optimizer.step()\n",
    "\n",
    "    print(f\"Epoch {epoch+1}/{epochs}, Loss: {loss.item()}\")\n",
    "\n",
    "# Sauvegarder le modèle\n",
    "torch.save(model.state_dict(), 'path_to_save_model.pth')"
   ]
  },
  {
   "cell_type": "code",
   "execution_count": 22,
   "metadata": {},
   "outputs": [],
   "source": [
    "# Sauvegarder le modèle\n",
    "torch.save(model.state_dict(), 'melanoma_model.pth')  # Ajustez le chemin\n"
   ]
  }
 ],
 "metadata": {
  "kernelspec": {
   "display_name": "Python 3",
   "language": "python",
   "name": "python3"
  },
  "language_info": {
   "codemirror_mode": {
    "name": "ipython",
    "version": 3
   },
   "file_extension": ".py",
   "mimetype": "text/x-python",
   "name": "python",
   "nbconvert_exporter": "python",
   "pygments_lexer": "ipython3",
   "version": "3.10.6"
  }
 },
 "nbformat": 4,
 "nbformat_minor": 2
}
