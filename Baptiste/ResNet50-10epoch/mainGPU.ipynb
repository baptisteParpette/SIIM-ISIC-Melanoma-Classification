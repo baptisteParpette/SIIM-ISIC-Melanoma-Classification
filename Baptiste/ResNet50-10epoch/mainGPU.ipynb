{
 "cells": [
  {
   "cell_type": "code",
   "execution_count": 1,
   "metadata": {},
   "outputs": [],
   "source": [
    "import os\n",
    "import pandas as pd\n",
    "import torch\n",
    "import torch.nn as nn\n",
    "import torch.optim as optim\n",
    "from torch.utils.data import Dataset, DataLoader\n",
    "from PIL import Image\n",
    "from torchvision import transforms, models\n",
    "import torch.nn.functional as F\n",
    "\n",
    "# Vérifier si CUDA est disponible, sinon utiliser le CPU\n",
    "device = torch.device(\"cuda\" if torch.cuda.is_available() else \"cpu\")\n",
    "\n",
    "# Architecture simplifiée du CNN\n",
    "class MelanomaCNN(nn.Module):\n",
    "    def __init__(self):\n",
    "        super(MelanomaCNN, self).__init__()\n",
    "        self.conv = nn.Conv2d(3, 16, kernel_size=3, padding=1)\n",
    "        self.fc = nn.Linear(16 * 112 * 112, 1)\n",
    "\n",
    "    def forward(self, x):\n",
    "        x = F.relu(self.conv(x))\n",
    "        x = F.max_pool2d(x, 2)\n",
    "        x = x.view(-1, 16 * 112 * 112)\n",
    "        x = torch.sigmoid(self.fc(x))\n",
    "        return x\n",
    "\n",
    "\n",
    "# Ensemble de données personnalisé\n",
    "class MelanomaDataset(Dataset):\n",
    "    def __init__(self, csv_file, img_dir, transform=None, limit=None):\n",
    "        self.labels_df = pd.read_csv(csv_file).head(limit)  # Limite à 100 images\n",
    "        self.img_dir = img_dir\n",
    "        self.transform = transform\n",
    "\n",
    "    def __len__(self):\n",
    "        return len(self.labels_df)\n",
    "\n",
    "    def __getitem__(self, idx):\n",
    "        img_name = os.path.join(self.img_dir, self.labels_df.iloc[idx, 0] + \".jpg\")\n",
    "        image = Image.open(img_name)\n",
    "        label = torch.tensor(self.labels_df.iloc[idx, 1], dtype=torch.float32)\n",
    "        if self.transform:\n",
    "            image = self.transform(image)\n",
    "        return image, label"
   ]
  },
  {
   "cell_type": "code",
   "execution_count": 2,
   "metadata": {},
   "outputs": [
    {
     "name": "stderr",
     "output_type": "stream",
     "text": [
      "c:\\Users\\bapti\\AppData\\Local\\Programs\\Python\\Python310\\lib\\site-packages\\torchvision\\models\\_utils.py:208: UserWarning: The parameter 'pretrained' is deprecated since 0.13 and may be removed in the future, please use 'weights' instead.\n",
      "  warnings.warn(\n",
      "c:\\Users\\bapti\\AppData\\Local\\Programs\\Python\\Python310\\lib\\site-packages\\torchvision\\models\\_utils.py:223: UserWarning: Arguments other than a weight enum or `None` for 'weights' are deprecated since 0.13 and may be removed in the future. The current behavior is equivalent to passing `weights=ResNet50_Weights.IMAGENET1K_V1`. You can also use `weights=ResNet50_Weights.DEFAULT` to get the most up-to-date weights.\n",
      "  warnings.warn(msg)\n",
      "Downloading: \"https://download.pytorch.org/models/resnet50-0676ba61.pth\" to C:\\Users\\bapti/.cache\\torch\\hub\\checkpoints\\resnet50-0676ba61.pth\n",
      "100%|██████████| 97.8M/97.8M [00:33<00:00, 3.06MB/s]\n"
     ]
    },
    {
     "name": "stdout",
     "output_type": "stream",
     "text": [
      "Epoch 1/10, Loss: 0.08363478642310336\n",
      "Epoch 2/10, Loss: 0.07678653126724988\n",
      "Epoch 3/10, Loss: 0.07682398133171797\n",
      "Epoch 4/10, Loss: 0.07587905781560228\n",
      "Epoch 5/10, Loss: 0.07456350061693229\n",
      "Epoch 6/10, Loss: 0.07459114493495869\n",
      "Epoch 7/10, Loss: 0.07388688432775047\n",
      "Epoch 8/10, Loss: 0.07279902045835487\n",
      "Epoch 9/10, Loss: 0.07175568079221481\n",
      "Epoch 10/10, Loss: 0.07117257871585053\n"
     ]
    }
   ],
   "source": [
    "# Transformations pour les images\n",
    "transform = transforms.Compose([\n",
    "    transforms.ToTensor(),\n",
    "    transforms.Normalize((0.5, 0.5, 0.5), (0.5, 0.5, 0.5))\n",
    "])\n",
    "\n",
    "# Charger l'ensemble de données\n",
    "train_dataset = MelanomaDataset(csv_file='../../data/train-labels.csv',  # Ajustez le chemin\n",
    "                                img_dir='../../data/train-resized/train-resized',      # Ajustez le chemin\n",
    "                                transform=transform)\n",
    "train_loader = DataLoader(train_dataset, batch_size=32, shuffle=True)\n",
    "\n",
    "# Charger ResNet50 pré-entraîné\n",
    "model = models.resnet50(pretrained=True)\n",
    "\n",
    "# Geler tous les paramètres du modèle\n",
    "for param in model.parameters():\n",
    "    param.requires_grad = False\n",
    "\n",
    "# Remplacer la dernière couche fc pour notre classification binaire\n",
    "model.fc = nn.Sequential(\n",
    "    nn.Linear(2048, 1),\n",
    "    nn.Sigmoid()\n",
    ")\n",
    "\n",
    "# Si une GPU est disponible\n",
    "device = torch.device(\"cuda\" if torch.cuda.is_available() else \"cpu\")\n",
    "model = model.to(device)\n",
    "\n",
    "# Fonction de perte et optimiseur\n",
    "criterion = nn.BCELoss()\n",
    "optimizer = optim.Adam(model.fc.parameters(), lr=0.001)  # Optimiser seulement les paramètres de model.fc\n",
    "\n",
    "# Entraîner le modèle\n",
    "epochs = 10\n",
    "for epoch in range(epochs):\n",
    "    model.train()\n",
    "    total_loss = 0\n",
    "    for batch_idx, (data, target) in enumerate(train_loader):\n",
    "        data, target = data.to(device), target.to(device)\n",
    "        \n",
    "        optimizer.zero_grad()\n",
    "        outputs = model(data).squeeze()\n",
    "        loss = criterion(outputs, target)\n",
    "        loss.backward()\n",
    "        optimizer.step()\n",
    "        total_loss += loss.item()\n",
    "\n",
    "    print(f\"Epoch {epoch+1}/{epochs}, Loss: {total_loss / len(train_loader)}\")\n"
   ]
  },
  {
   "cell_type": "code",
   "execution_count": 3,
   "metadata": {},
   "outputs": [],
   "source": [
    "# Sauvegarder le modèle\n",
    "torch.save(model.state_dict(), 'melanoma_model.pth')  # Ajustez le chemin\n"
   ]
  }
 ],
 "metadata": {
  "kernelspec": {
   "display_name": "Python 3",
   "language": "python",
   "name": "python3"
  },
  "language_info": {
   "codemirror_mode": {
    "name": "ipython",
    "version": 3
   },
   "file_extension": ".py",
   "mimetype": "text/x-python",
   "name": "python",
   "nbconvert_exporter": "python",
   "pygments_lexer": "ipython3",
   "version": "3.10.6"
  }
 },
 "nbformat": 4,
 "nbformat_minor": 2
}
